{
  "cells": [
    {
      "cell_type": "markdown",
      "metadata": {
        "id": "view-in-github",
        "colab_type": "text"
      },
      "source": [
        "<a href=\"https://colab.research.google.com/github/JasperLS/data_science_intros/blob/main/InfluencerNet_SubmissionTemplate.ipynb\" target=\"_parent\"><img src=\"https://colab.research.google.com/assets/colab-badge.svg\" alt=\"Open In Colab\"/></a>"
      ]
    },
    {
      "cell_type": "markdown",
      "metadata": {
        "id": "7W3_4hdttCp1"
      },
      "source": [
        "# **Part-Time Mannheim Master in Management Analytics 2023 (PTMMA23)**\n",
        "\n",
        "Image Mining, Jasper Schwenzow"
      ]
    },
    {
      "cell_type": "markdown",
      "metadata": {
        "id": "v-6I3EqPs9G6"
      },
      "source": [
        "### **Individual Case Study: \"InfluencerNet\"**"
      ]
    },
    {
      "cell_type": "code",
      "execution_count": null,
      "metadata": {
        "id": "z-KKqYn1so4t"
      },
      "outputs": [],
      "source": [
        "YOUR_NAME = ''"
      ]
    },
    {
      "cell_type": "markdown",
      "metadata": {
        "id": "jVTYDu_utU-t"
      },
      "source": [
        "Please use this template for your submission. It should include all analyses (as documented Python code) and answers to the case study. Please refer to the course syllabus for detailed submission instructions.\n",
        "\n",
        "The submission deadline is **Dec 2, 2022 at 11:59pm (CET).**\n",
        "\n",
        "The submission template's structure is based on Appendix B: Machine Learning Project Checklist in [Géron (2019)](https://www.oreilly.com/library/view/hands-on-machine-learning/9781492032632/).\n"
      ]
    },
    {
      "cell_type": "markdown",
      "metadata": {
        "id": "JV97VUcvuHkU"
      },
      "source": [
        "### **1. Frame the Problem**\n"
      ]
    },
    {
      "cell_type": "code",
      "execution_count": null,
      "metadata": {
        "id": "JwTkRaeHtUXu"
      },
      "outputs": [],
      "source": []
    },
    {
      "cell_type": "markdown",
      "metadata": {
        "id": "KhUXuwNMuMeM"
      },
      "source": [
        "### **2. Get the Data**"
      ]
    },
    {
      "cell_type": "code",
      "execution_count": null,
      "metadata": {
        "id": "Vq3mBfReuMrt"
      },
      "outputs": [],
      "source": []
    },
    {
      "cell_type": "markdown",
      "metadata": {
        "id": "-oDWQV03uNNl"
      },
      "source": [
        "### **3. Explore the Data**"
      ]
    },
    {
      "cell_type": "code",
      "execution_count": null,
      "metadata": {
        "id": "IaWKKOGyuNVz"
      },
      "outputs": [],
      "source": []
    },
    {
      "cell_type": "markdown",
      "metadata": {
        "id": "YN9-uuUMuNdl"
      },
      "source": [
        "### **4. Prepare the Data**"
      ]
    },
    {
      "cell_type": "code",
      "execution_count": null,
      "metadata": {
        "id": "fcmz1V1EuNlD"
      },
      "outputs": [],
      "source": []
    },
    {
      "cell_type": "markdown",
      "metadata": {
        "id": "Xeyjog3NuNsP"
      },
      "source": [
        "### **5. Shortlist Promising Models**"
      ]
    },
    {
      "cell_type": "code",
      "source": [],
      "metadata": {
        "id": "qHZojviZV18W"
      },
      "execution_count": null,
      "outputs": []
    },
    {
      "cell_type": "markdown",
      "metadata": {
        "id": "OOTKR95UuN68"
      },
      "source": [
        "### **6. Fine-tune the System**"
      ]
    },
    {
      "cell_type": "code",
      "execution_count": null,
      "metadata": {
        "id": "GmGp2YVquODC"
      },
      "outputs": [],
      "source": []
    },
    {
      "cell_type": "markdown",
      "metadata": {
        "id": "LO1Hrds1uOOj"
      },
      "source": [
        "### **7. Present Your Solution**\n",
        "Please briefly summarize your results and reflect on your key learnings: \n",
        "- What went well? What didn't go well?\n",
        "- What are your system's limitations? \n",
        "- What would you try or change if you had more time for this machine-learning project?"
      ]
    },
    {
      "cell_type": "code",
      "execution_count": null,
      "metadata": {
        "id": "6BFB_Ll2uOXO"
      },
      "outputs": [],
      "source": []
    },
    {
      "cell_type": "markdown",
      "metadata": {
        "id": "0GE3q78MuiLM"
      },
      "source": [
        "### **8. \"Launch\"**\n",
        "Please submit your **Jupyter Notebook (.ipynb)** and a **PDF version** of it on Canvas.\n",
        " \n",
        "Both files should include *all cell outputs* after running the entire script.  You do not need to submit the ConvNet itself."
      ]
    },
    {
      "cell_type": "markdown",
      "metadata": {
        "id": "ox022qq_up9M"
      },
      "source": [
        "Congrats. You made it!"
      ]
    }
  ],
  "metadata": {
    "colab": {
      "collapsed_sections": [],
      "provenance": [],
      "include_colab_link": true
    },
    "kernelspec": {
      "display_name": "Python 3",
      "language": "python",
      "name": "python3"
    },
    "language_info": {
      "codemirror_mode": {
        "name": "ipython",
        "version": 3
      },
      "file_extension": ".py",
      "mimetype": "text/x-python",
      "name": "python",
      "nbconvert_exporter": "python",
      "pygments_lexer": "ipython3",
      "version": "3.7.10"
    }
  },
  "nbformat": 4,
  "nbformat_minor": 0
}